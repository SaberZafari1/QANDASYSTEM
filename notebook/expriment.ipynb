{
 "cells": [
  {
   "cell_type": "code",
   "execution_count": 38,
   "metadata": {},
   "outputs": [
    {
     "data": {
      "text/plain": [
       "True"
      ]
     },
     "execution_count": 38,
     "metadata": {},
     "output_type": "execute_result"
    }
   ],
   "source": [
    "import os\n",
    "from dotenv import load_dotenv\n",
    "load_dotenv()"
   ]
  },
  {
   "cell_type": "code",
   "execution_count": 39,
   "metadata": {},
   "outputs": [],
   "source": [
    "google_api_key = os.getenv(\"GOOGLE_API_KEY\")"
   ]
  },
  {
   "cell_type": "code",
   "execution_count": 40,
   "metadata": {},
   "outputs": [],
   "source": [
    "from llama_index.llms.gemini import Gemini\n",
    "import google.generativeai as genai\n",
    "from llama_index.core import SimpleDirectoryReader\n",
    "from llama_index.core import VectorStoreIndex\n",
    "from IPython.display import Markdown, display\n",
    "from llama_index.core import ServiceContext\n",
    "from llama_index.core import StorageContext, load_index_from_storage\n",
    "from llama_index.embeddings.gemini import GeminiEmbedding"
   ]
  },
  {
   "cell_type": "code",
   "execution_count": 46,
   "metadata": {},
   "outputs": [],
   "source": [
    "# Gemini LLM kurulumu\n",
    "gemini_api_key = os.getenv(\"GOOGLE_API_KEY\")\n",
    "genai.configure(api_key=gemini_api_key)\n",
    "\n",
    "# Gemini LLM nesnesi oluşturmak\n",
    "gemini_llm = Gemini(models='gemini-pro', api_key=google_api_key)\n",
    "\n",
    "\n",
    "# Gemini kullanarak embedding model oluşturmak\n",
    "gemini_embedding = GeminiEmbedding(gemini_llm=gemini_llm)\n",
    "\n"
   ]
  },
  {
   "cell_type": "code",
   "execution_count": 53,
   "metadata": {},
   "outputs": [
    {
     "name": "stderr",
     "output_type": "stream",
     "text": [
      "C:\\Users\\saber\\AppData\\Local\\Temp\\ipykernel_10956\\809652235.py:6: DeprecationWarning: Call to deprecated class method from_defaults. (ServiceContext is deprecated, please use `llama_index.settings.Settings` instead.) -- Deprecated since version 0.10.0.\n",
      "  service_context = ServiceContext.from_defaults(llm=gemini_llm, embed_model=gemini_embedding)\n"
     ]
    }
   ],
   "source": [
    "# log dosyasının yüklenmesi\n",
    "log_directory = \"../Data\"  \n",
    "documents = SimpleDirectoryReader(log_directory).load_data()\n",
    "\n",
    "# documents ve Gemini embeddings kullanarak index oluşturma\n",
    "service_context = ServiceContext.from_defaults(llm=gemini_llm, embed_model=gemini_embedding)\n",
    "index = VectorStoreIndex.from_documents(documents, service_context=service_context)\n"
   ]
  },
  {
   "cell_type": "code",
   "execution_count": 54,
   "metadata": {},
   "outputs": [],
   "source": [
    "index.storage_context.persist()"
   ]
  },
  {
   "cell_type": "code",
   "execution_count": 55,
   "metadata": {},
   "outputs": [],
   "source": [
    "queryEngine =index.as_query_engine()"
   ]
  },
  {
   "cell_type": "code",
   "execution_count": 64,
   "metadata": {},
   "outputs": [
    {
     "data": {
      "text/markdown": [
       "The server received a GET /signup request on April 29, 1986 at 19:08:54. The request resulted in a 301 redirect. \n"
      ],
      "text/plain": [
       "<IPython.core.display.Markdown object>"
      ]
     },
     "metadata": {},
     "output_type": "display_data"
    }
   ],
   "source": [
    "def query_gemini_llama(query):\n",
    "    #query_engine = index.as_query_engine()\n",
    "    results = queryEngine.query(query)\n",
    "    # Display results\n",
    "    display(Markdown(results.response))\n",
    "    return results.response\n",
    "\n",
    "# Test\n",
    "user_query = \"When the server recieved a GET /signup request and what happenend?\"\n",
    "response = query_gemini_llama(user_query)\n"
   ]
  }
 ],
 "metadata": {
  "kernelspec": {
   "display_name": "Python 3",
   "language": "python",
   "name": "python3"
  },
  "language_info": {
   "codemirror_mode": {
    "name": "ipython",
    "version": 3
   },
   "file_extension": ".py",
   "mimetype": "text/x-python",
   "name": "python",
   "nbconvert_exporter": "python",
   "pygments_lexer": "ipython3",
   "version": "3.9.19"
  }
 },
 "nbformat": 4,
 "nbformat_minor": 2
}
